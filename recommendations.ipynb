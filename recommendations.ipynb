{
 "cells": [
  {
   "cell_type": "markdown",
   "id": "77d98a4e-9418-4397-8b7a-8088621543bc",
   "metadata": {},
   "source": [
    "## Movie recommendations"
   ]
  },
  {
   "cell_type": "markdown",
   "id": "b7ff1e5a-8599-412a-9494-45699a65a2fb",
   "metadata": {},
   "source": [
    "Write a program using linear regression that, based on the ratings of movies by users, will attempt to predict the ratings of other users. We will use the [MovieLens Latest Datasets](https://grouplens.org/datasets/movielens/latest/) as the data source. Specifically, we will select a smaller dataset, so download the file [ml-latest-small.zip](http://files.grouplens.org/datasets/movielens/ml-latest-small.zip\"). The task involves selecting from the <em>ratings.csv</em> file those users ($\\text{userId}$) who have rated the movie 'Toy Story (1995)', which has the identifier '1' in this file (see <em>movies.csv</em>). There are $215$ such users in this file. Accordingly, as stated in the lecture $x_{ij}$ will be the rating of the $i$-th user for $i=0,\\ldots, 214$, since that is our set of users who rated 'Toy Story', and $j$ will be the rating of the $j$-th movie for $j=0,\\ldots,m$. As $j$, we can choose the $\\text{movieId}$ of the movie, meaning, for example, the movie with $\\text{movieId}=42$ rated by user $5$ (this is not $\\text{userId}$, but the fifth person in the set of $215$ users) who rated the movie as $3.5$, we enter $x[5, 42] = 3.5$. $y_i$ is the rating of 'Toy Story' by the $i$-th user. Thus, we create the matrix $X = [x_{ij}]$ and the vector $y_i$ where $i=0,\\ldots,215$ and $j=0,\\ldots,m$. For such prepared data, we perform:\n",
    "\n",
    "* Linear regression on the entire set of users for $m=10,1000,10000$, i.e., for $m=10$ we ignore movies with $\\text{movieId} \\gt 10$ and perform regression for such a reduced set of ratings. What errors do we get? Show on a plot.\n",
    "* Split the set of users into a training set and a test set, e.g., take $i=0,\\ldots,200$ as the training set and perform regression on this set of users, then check for the entire set ($215$). Thus, we will want to predict the last $15$ ratings (test set). Make predictions for $m=10,100,200,500,1000,10000$. Display the prediction results and the correct results for these $15$ users.\n",
    "\n",
    "Example data for regression that we obtain for $m=10$ and $n=215$.\n",
    "\n",
    "---\n",
    "\n",
    "```\n",
    "X = [[0.  4.  0.  0.  4.  0.  0.  0.  0.  0. ]\n",
    "     [0.  0.  0.  0.  0.  0.  0.  0.  0.  0. ]\n",
    "     [0.  0.  0.  0.  0.  0.  0.  0.  0.  0. ]\n",
    "     [0.  0.  0.  0.  0.  0.  0.  0.  0.  0. ]\n",
    "     [0.  0.  0.  0.  0.  0.  0.  0.  0.  0. ]\n",
    "     [3.  0.  0.  0.  4.  0.  0.  0.  0.  0. ]\n",
    "     [3.  3.  0.  0.  0.  2.  0.  0.  2.  0. ]\n",
    "     [3.5 0.  0.  0.  0.  0.  0.  0.  5.  0. ]\n",
    "]\n",
    "     ...\n",
    "y = [[4. ]\n",
    "     [4. ]\n",
    "     [4.5]\n",
    "     [2.5]\n",
    "     [4.5]\n",
    "     [3.5]\n",
    "     [4. ]\n",
    "     [3.5]\n",
    "]\n",
    "     ...\n",
    "```\n"
   ]
  },
  {
   "cell_type": "code",
   "execution_count": 23,
   "id": "1c1e2b1d-5e9d-4373-a11e-9e7935adbda9",
   "metadata": {},
   "outputs": [],
   "source": [
    "import pandas as pd\n",
    "import numpy as np\n",
    "from sklearn.metrics import mean_squared_error\n",
    "from sklearn.linear_model import LinearRegression\n",
    "import matplotlib.pyplot as plt\n",
    "import numpy.linalg as la\n",
    "from sklearn.linear_model import Ridge"
   ]
  },
  {
   "cell_type": "code",
   "execution_count": 24,
   "id": "076869ee",
   "metadata": {},
   "outputs": [
    {
     "data": {
      "text/html": [
       "<div>\n",
       "<style scoped>\n",
       "    .dataframe tbody tr th:only-of-type {\n",
       "        vertical-align: middle;\n",
       "    }\n",
       "\n",
       "    .dataframe tbody tr th {\n",
       "        vertical-align: top;\n",
       "    }\n",
       "\n",
       "    .dataframe thead th {\n",
       "        text-align: right;\n",
       "    }\n",
       "</style>\n",
       "<table border=\"1\" class=\"dataframe\">\n",
       "  <thead>\n",
       "    <tr style=\"text-align: right;\">\n",
       "      <th></th>\n",
       "      <th>movieId</th>\n",
       "      <th>title</th>\n",
       "      <th>genres</th>\n",
       "    </tr>\n",
       "  </thead>\n",
       "  <tbody>\n",
       "    <tr>\n",
       "      <th>0</th>\n",
       "      <td>1</td>\n",
       "      <td>Toy Story (1995)</td>\n",
       "      <td>Adventure|Animation|Children|Comedy|Fantasy</td>\n",
       "    </tr>\n",
       "  </tbody>\n",
       "</table>\n",
       "</div>"
      ],
      "text/plain": [
       "   movieId             title                                       genres\n",
       "0        1  Toy Story (1995)  Adventure|Animation|Children|Comedy|Fantasy"
      ]
     },
     "metadata": {},
     "output_type": "display_data"
    },
    {
     "data": {
      "text/html": [
       "<div>\n",
       "<style scoped>\n",
       "    .dataframe tbody tr th:only-of-type {\n",
       "        vertical-align: middle;\n",
       "    }\n",
       "\n",
       "    .dataframe tbody tr th {\n",
       "        vertical-align: top;\n",
       "    }\n",
       "\n",
       "    .dataframe thead th {\n",
       "        text-align: right;\n",
       "    }\n",
       "</style>\n",
       "<table border=\"1\" class=\"dataframe\">\n",
       "  <thead>\n",
       "    <tr style=\"text-align: right;\">\n",
       "      <th></th>\n",
       "      <th>userId</th>\n",
       "      <th>movieId</th>\n",
       "      <th>rating</th>\n",
       "      <th>timestamp</th>\n",
       "    </tr>\n",
       "  </thead>\n",
       "  <tbody>\n",
       "    <tr>\n",
       "      <th>0</th>\n",
       "      <td>1</td>\n",
       "      <td>1</td>\n",
       "      <td>4.0</td>\n",
       "      <td>964982703</td>\n",
       "    </tr>\n",
       "    <tr>\n",
       "      <th>1</th>\n",
       "      <td>1</td>\n",
       "      <td>3</td>\n",
       "      <td>4.0</td>\n",
       "      <td>964981247</td>\n",
       "    </tr>\n",
       "    <tr>\n",
       "      <th>2</th>\n",
       "      <td>1</td>\n",
       "      <td>6</td>\n",
       "      <td>4.0</td>\n",
       "      <td>964982224</td>\n",
       "    </tr>\n",
       "    <tr>\n",
       "      <th>3</th>\n",
       "      <td>1</td>\n",
       "      <td>47</td>\n",
       "      <td>5.0</td>\n",
       "      <td>964983815</td>\n",
       "    </tr>\n",
       "    <tr>\n",
       "      <th>4</th>\n",
       "      <td>1</td>\n",
       "      <td>50</td>\n",
       "      <td>5.0</td>\n",
       "      <td>964982931</td>\n",
       "    </tr>\n",
       "  </tbody>\n",
       "</table>\n",
       "</div>"
      ],
      "text/plain": [
       "   userId  movieId  rating  timestamp\n",
       "0       1        1     4.0  964982703\n",
       "1       1        3     4.0  964981247\n",
       "2       1        6     4.0  964982224\n",
       "3       1       47     5.0  964983815\n",
       "4       1       50     5.0  964982931"
      ]
     },
     "metadata": {},
     "output_type": "display_data"
    },
    {
     "data": {
      "text/html": [
       "<div>\n",
       "<style scoped>\n",
       "    .dataframe tbody tr th:only-of-type {\n",
       "        vertical-align: middle;\n",
       "    }\n",
       "\n",
       "    .dataframe tbody tr th {\n",
       "        vertical-align: top;\n",
       "    }\n",
       "\n",
       "    .dataframe thead th {\n",
       "        text-align: right;\n",
       "    }\n",
       "</style>\n",
       "<table border=\"1\" class=\"dataframe\">\n",
       "  <thead>\n",
       "    <tr style=\"text-align: right;\">\n",
       "      <th></th>\n",
       "      <th>userId</th>\n",
       "      <th>movieId</th>\n",
       "      <th>rating</th>\n",
       "      <th>timestamp</th>\n",
       "    </tr>\n",
       "  </thead>\n",
       "  <tbody>\n",
       "    <tr>\n",
       "      <th>0</th>\n",
       "      <td>1</td>\n",
       "      <td>1</td>\n",
       "      <td>4.0</td>\n",
       "      <td>964982703</td>\n",
       "    </tr>\n",
       "    <tr>\n",
       "      <th>516</th>\n",
       "      <td>5</td>\n",
       "      <td>1</td>\n",
       "      <td>4.0</td>\n",
       "      <td>847434962</td>\n",
       "    </tr>\n",
       "    <tr>\n",
       "      <th>874</th>\n",
       "      <td>7</td>\n",
       "      <td>1</td>\n",
       "      <td>4.5</td>\n",
       "      <td>1106635946</td>\n",
       "    </tr>\n",
       "    <tr>\n",
       "      <th>1434</th>\n",
       "      <td>15</td>\n",
       "      <td>1</td>\n",
       "      <td>2.5</td>\n",
       "      <td>1510577970</td>\n",
       "    </tr>\n",
       "    <tr>\n",
       "      <th>1667</th>\n",
       "      <td>17</td>\n",
       "      <td>1</td>\n",
       "      <td>4.5</td>\n",
       "      <td>1305696483</td>\n",
       "    </tr>\n",
       "  </tbody>\n",
       "</table>\n",
       "</div>"
      ],
      "text/plain": [
       "      userId  movieId  rating   timestamp\n",
       "0          1        1     4.0   964982703\n",
       "516        5        1     4.0   847434962\n",
       "874        7        1     4.5  1106635946\n",
       "1434      15        1     2.5  1510577970\n",
       "1667      17        1     4.5  1305696483"
      ]
     },
     "metadata": {},
     "output_type": "display_data"
    },
    {
     "name": "stdout",
     "output_type": "stream",
     "text": [
      "215\n"
     ]
    }
   ],
   "source": [
    "ratings = pd.read_csv(\"datasets/ml-latest-small/ratings.csv\")\n",
    "movies = pd.read_csv(\"datasets/ml-latest-small/movies.csv\")\n",
    "\n",
    "display(movies[:1])\n",
    "display(ratings.head())\n",
    "\n",
    "toystory_ratings = ratings[ratings[\"movieId\"] == 1]\n",
    "display(toystory_ratings.head())\n",
    "print(len(toystory_ratings))"
   ]
  },
  {
   "cell_type": "code",
   "execution_count": 25,
   "id": "cc781dc4",
   "metadata": {},
   "outputs": [
    {
     "data": {
      "text/html": [
       "<div>\n",
       "<style scoped>\n",
       "    .dataframe tbody tr th:only-of-type {\n",
       "        vertical-align: middle;\n",
       "    }\n",
       "\n",
       "    .dataframe tbody tr th {\n",
       "        vertical-align: top;\n",
       "    }\n",
       "\n",
       "    .dataframe thead th {\n",
       "        text-align: right;\n",
       "    }\n",
       "</style>\n",
       "<table border=\"1\" class=\"dataframe\">\n",
       "  <thead>\n",
       "    <tr style=\"text-align: right;\">\n",
       "      <th></th>\n",
       "      <th>movieId</th>\n",
       "      <th>rating</th>\n",
       "    </tr>\n",
       "  </thead>\n",
       "  <tbody>\n",
       "    <tr>\n",
       "      <th>0</th>\n",
       "      <td>1</td>\n",
       "      <td>4.0</td>\n",
       "    </tr>\n",
       "    <tr>\n",
       "      <th>1</th>\n",
       "      <td>3</td>\n",
       "      <td>4.0</td>\n",
       "    </tr>\n",
       "    <tr>\n",
       "      <th>2</th>\n",
       "      <td>6</td>\n",
       "      <td>4.0</td>\n",
       "    </tr>\n",
       "    <tr>\n",
       "      <th>3</th>\n",
       "      <td>47</td>\n",
       "      <td>5.0</td>\n",
       "    </tr>\n",
       "    <tr>\n",
       "      <th>4</th>\n",
       "      <td>50</td>\n",
       "      <td>5.0</td>\n",
       "    </tr>\n",
       "    <tr>\n",
       "      <th>...</th>\n",
       "      <td>...</td>\n",
       "      <td>...</td>\n",
       "    </tr>\n",
       "    <tr>\n",
       "      <th>227</th>\n",
       "      <td>3744</td>\n",
       "      <td>4.0</td>\n",
       "    </tr>\n",
       "    <tr>\n",
       "      <th>228</th>\n",
       "      <td>3793</td>\n",
       "      <td>5.0</td>\n",
       "    </tr>\n",
       "    <tr>\n",
       "      <th>229</th>\n",
       "      <td>3809</td>\n",
       "      <td>4.0</td>\n",
       "    </tr>\n",
       "    <tr>\n",
       "      <th>230</th>\n",
       "      <td>4006</td>\n",
       "      <td>4.0</td>\n",
       "    </tr>\n",
       "    <tr>\n",
       "      <th>231</th>\n",
       "      <td>5060</td>\n",
       "      <td>5.0</td>\n",
       "    </tr>\n",
       "  </tbody>\n",
       "</table>\n",
       "<p>232 rows × 2 columns</p>\n",
       "</div>"
      ],
      "text/plain": [
       "     movieId  rating\n",
       "0          1     4.0\n",
       "1          3     4.0\n",
       "2          6     4.0\n",
       "3         47     5.0\n",
       "4         50     5.0\n",
       "..       ...     ...\n",
       "227     3744     4.0\n",
       "228     3793     5.0\n",
       "229     3809     4.0\n",
       "230     4006     4.0\n",
       "231     5060     5.0\n",
       "\n",
       "[232 rows x 2 columns]"
      ]
     },
     "execution_count": 25,
     "metadata": {},
     "output_type": "execute_result"
    }
   ],
   "source": [
    "ratings[ratings[\"userId\"] == 1].sort_values(\"movieId\")[[\"movieId\", \"rating\"]]"
   ]
  },
  {
   "cell_type": "code",
   "execution_count": 26,
   "id": "5da12266",
   "metadata": {},
   "outputs": [],
   "source": [
    "def get_data(n, m):\n",
    "    X = np.zeros((n, m))\n",
    "    y = np.array(toystory_ratings[\"rating\"])\n",
    "\n",
    "    for i, user in enumerate(toystory_ratings[\"userId\"]):\n",
    "        user_reviews = ratings[ratings[\"userId\"] == user]\n",
    "        mr_pairs = user_reviews.sort_values(\"movieId\")[[\"movieId\", \"rating\"]]\n",
    "        for movie, rating in mr_pairs.values:\n",
    "            if movie > m:\n",
    "                break\n",
    "            X[i, int(movie-1)] = rating\n",
    "    return X[:, 1:], y"
   ]
  },
  {
   "cell_type": "code",
   "execution_count": 27,
   "id": "58ac2953",
   "metadata": {},
   "outputs": [
    {
     "name": "stdout",
     "output_type": "stream",
     "text": [
      "X:\n",
      "[[0.  4.  0.  0.  4.  0.  0.  0.  0. ]\n",
      " [0.  0.  0.  0.  0.  0.  0.  0.  0. ]\n",
      " [0.  0.  0.  0.  0.  0.  0.  0.  0. ]\n",
      " [0.  0.  0.  0.  0.  0.  0.  0.  0. ]\n",
      " [0.  0.  0.  0.  0.  0.  0.  0.  0. ]\n",
      " [3.  0.  0.  0.  4.  0.  0.  0.  0. ]\n",
      " [3.  3.  0.  0.  0.  2.  0.  0.  2. ]\n",
      " [3.5 0.  0.  0.  0.  0.  0.  0.  5. ]]\n",
      "\n",
      "y: [4.  4.  4.5 2.5 4.5 3.5 4.  3.5]\n"
     ]
    }
   ],
   "source": [
    "n = 215\n",
    "m = 10\n",
    "\n",
    "X, y = get_data(n, m)\n",
    "print(\"X:\")\n",
    "print(X[:8])\n",
    "print(\"\\ny:\", y[:8])"
   ]
  },
  {
   "cell_type": "code",
   "execution_count": 28,
   "id": "1612dd2f",
   "metadata": {},
   "outputs": [
    {
     "data": {
      "text/plain": [
       "0.6595994322461797"
      ]
     },
     "execution_count": 28,
     "metadata": {},
     "output_type": "execute_result"
    }
   ],
   "source": [
    "model = LinearRegression()\n",
    "model.fit(X, y)\n",
    "mean_squared_error(model.predict(X), y)"
   ]
  },
  {
   "cell_type": "code",
   "execution_count": 29,
   "id": "bce01525",
   "metadata": {},
   "outputs": [
    {
     "data": {
      "image/png": "[encoded data removed]",
      "text/plain": [
       "<Figure size 640x480 with 1 Axes>"
      ]
     },
     "metadata": {},
     "output_type": "display_data"
    },
    {
     "name": "stdout",
     "output_type": "stream",
     "text": [
      "10: mse = 0.6595994322461797\n",
      "100: mse = 0.4676064733930895\n",
      "1000: mse = 1.6772467037170002e-29\n",
      "10000: mse = 1.6147340633788466e-29\n"
     ]
    }
   ],
   "source": [
    "n = 215\n",
    "m_values = range(100, 1000, 100)\n",
    "\n",
    "mse = []\n",
    "for m in m_values:\n",
    "    X, y = get_data(n, m)\n",
    "    model = LinearRegression()\n",
    "    model.fit(X, y)\n",
    "    mse.append(mean_squared_error(model.predict(X), y))\n",
    "\n",
    "plt.plot(m_values, mse, color=\"darkred\")\n",
    "plt.title(\"Mean Squared Error\")\n",
    "plt.xlabel(\"m\")\n",
    "plt.ylabel(\"mse\")\n",
    "plt.show()\n",
    "\n",
    "mse = []\n",
    "for m in [10, 100, 1000, 10000]:\n",
    "    X, y = get_data(n, m)\n",
    "    model = LinearRegression()\n",
    "    model.fit(X, y)\n",
    "    mse.append(mean_squared_error(model.predict(X), y))\n",
    "print(f\"10: mse = {mse[0]}\")\n",
    "print(f\"100: mse = {mse[1]}\")\n",
    "print(f\"1000: mse = {mse[2]}\")\n",
    "print(f\"10000: mse = {mse[3]}\")"
   ]
  },
  {
   "cell_type": "code",
   "execution_count": 30,
   "id": "eb460f0e",
   "metadata": {},
   "outputs": [
    {
     "name": "stdout",
     "output_type": "stream",
     "text": [
      "m = 10:\n",
      "cond train: 21.493921605240345\n",
      "\tlabel vs pred:\n",
      "\t\t5.0 vs 3.858\t4.0 vs 4.074\t4.0 vs 3.858\t4.0 vs 3.890\t3.0 vs 4.033\t\n",
      "\t\t2.5 vs 4.871\t4.0 vs 3.858\t4.0 vs 3.704\t3.0 vs 4.027\t4.0 vs 3.812\t\n",
      "\t\t2.5 vs 3.843\t4.0 vs 3.858\t2.5 vs 4.017\t3.0 vs 4.063\t5.0 vs 3.666\t\n",
      "train mse: 0.6403297995793991\n",
      "test mse: 1.084267516218346\n",
      "----------------------------\n",
      "m = 100:\n",
      "cond train: 1.907006626727494e+50\n",
      "\tlabel vs pred:\n",
      "\t\t5.0 vs 5.029\t4.0 vs 4.669\t4.0 vs 5.011\t4.0 vs 3.659\t3.0 vs 2.281\t\n",
      "\t\t2.5 vs 4.475\t4.0 vs 3.792\t4.0 vs 0.754\t3.0 vs 10.322\t4.0 vs 2.088\t\n",
      "\t\t2.5 vs 5.935\t4.0 vs 4.470\t2.5 vs 4.917\t3.0 vs 4.003\t5.0 vs 3.545\t\n",
      "train mse: 0.44268104101313904\n",
      "test mse: 6.321795179049663\n",
      "----------------------------\n",
      "m = 200:\n",
      "cond train: inf\n",
      "\tlabel vs pred:\n",
      "\t\t5.0 vs 2.279\t4.0 vs 4.991\t4.0 vs 4.061\t4.0 vs 2.935\t3.0 vs 5768907649061.731\t\n",
      "\t\t2.5 vs 2926102687165.421\t4.0 vs 3.703\t4.0 vs -45226331418332.766\t3.0 vs -29487804476132.324\t4.0 vs 3.000\t\n",
      "\t\t2.5 vs 14561999368557.150\t4.0 vs 13.677\t2.5 vs 9.086\t3.0 vs -18709447016105.980\t5.0 vs -1.053\t\n",
      "train mse: 0.19706793381124157\n",
      "test mse: 2.3459261813610582e+26\n",
      "----------------------------\n",
      "m = 500:\n",
      "cond train: 9.560145129402822e+17\n",
      "\tlabel vs pred:\n",
      "\t\t5.0 vs 11.615\t4.0 vs 9.012\t4.0 vs -4.178\t4.0 vs 0.473\t3.0 vs -3.771\t\n",
      "\t\t2.5 vs 6.402\t4.0 vs 5.463\t4.0 vs -2.327\t3.0 vs -18.031\t4.0 vs -3.886\t\n",
      "\t\t2.5 vs 18.197\t4.0 vs 24.203\t2.5 vs 2.506\t3.0 vs -0.968\t5.0 vs 10.571\t\n",
      "train mse: 1.0436826991300292e-28\n",
      "test mse: 97.15239053296129\n",
      "----------------------------\n",
      "m = 1000:\n",
      "cond train: 1.3437481989466517e+17\n",
      "\tlabel vs pred:\n",
      "\t\t5.0 vs 6.262\t4.0 vs 9.142\t4.0 vs 4.556\t4.0 vs 0.065\t3.0 vs 5.416\t\n",
      "\t\t2.5 vs 3.338\t4.0 vs 4.944\t4.0 vs 4.776\t3.0 vs 0.767\t4.0 vs 3.282\t\n",
      "\t\t2.5 vs 5.495\t4.0 vs 5.522\t2.5 vs 4.158\t3.0 vs 4.900\t5.0 vs 2.154\t\n",
      "train mse: 2.037233287733263e-29\n",
      "test mse: 5.5411716433870515\n",
      "----------------------------\n",
      "m = 10000:\n",
      "cond train: 65.65824596487641\n",
      "\tlabel vs pred:\n",
      "\t\t5.0 vs 5.056\t4.0 vs 5.018\t4.0 vs 4.721\t4.0 vs 3.194\t3.0 vs 3.881\t\n",
      "\t\t2.5 vs 3.553\t4.0 vs 4.680\t4.0 vs 3.184\t3.0 vs 4.371\t4.0 vs 3.727\t\n",
      "\t\t2.5 vs 0.848\t4.0 vs 5.188\t2.5 vs 2.899\t3.0 vs 3.155\t5.0 vs 4.167\t\n",
      "train mse: 1.2903052700054055e-29\n",
      "test mse: 0.8128625278925603\n",
      "----------------------------\n"
     ]
    }
   ],
   "source": [
    "n = 215\n",
    "m_values = [10, 100, 200, 500, 1000, 10000]\n",
    "\n",
    "for m in m_values:\n",
    "    X, y = get_data(n, m)\n",
    "    train_X, test_X = X[:200], X[200:]\n",
    "    train_y, test_y = y[:200], y[200:]\n",
    "    model = LinearRegression()\n",
    "    # model = Ridge(alpha=1.0)\n",
    "    model.fit(train_X, train_y)\n",
    "    print(f\"m = {m}:\")\n",
    "    print(\"cond train:\", la.cond(train_X))\n",
    "    labels = test_y\n",
    "    preds = model.predict(test_X)\n",
    "    print(\"\\tlabel vs pred:\", end=\"\")\n",
    "    for i in range(15):\n",
    "        if i % 5 == 0:\n",
    "            print(\"\\n\\t\\t\", end=\"\")\n",
    "        print(f\"{labels[i]} vs {preds[i]:.3f}\", end=\"\\t\")\n",
    "    print(f\"\\ntrain mse: {mean_squared_error(model.predict(train_X), train_y)}\")\n",
    "    print(f\"test mse: {mean_squared_error(preds, labels)}\")\n",
    "    print(\"----------------------------\")"
   ]
  },
  {
   "cell_type": "markdown",
   "id": "fe57b10d-664a-4512-bb2b-c4d75f2d87eb",
   "metadata": {},
   "source": [
    "Write a movie recommendation system. Such systems are used by various companies, for example, Netflix organized a competition to develop an algorithm that would predict user ratings [Netflix Prize](https://en.wikipedia.org/wiki/Netflix_Prize). In this task, we will implement a similar system, but instead of predicting ratings, it will recommend movies that the user is most likely to enjoy based on their preferences.\n",
    "\n",
    "There are many ways to write such a system. For those interested in more details, consider looking at [Recommendation Systems](http://infolab.stanford.edu/~ullman/mmds/ch9.pdf). In this task, we will choose a relatively simple and easy-to-implement recommendation system.\n",
    "\n",
    "Let's formalize the problem. Assume we have a rating matrix where rows represent users and columns represent movies, e.g.,\n",
    "\n",
    "$$\n",
    "\\begin{array}{ccc}\n",
    "    & \\text{Matrix} & \\text{Star Wars IV} \\\\\n",
    "    \\text{Alice} & 5 & 4 \\\\\n",
    "    \\text{Bob} & 0 & 1 \\\\\n",
    "    \\text{John} & 2 & 2 \\\\\n",
    "    \\text{Ada} & 5 & 5\n",
    "\\end{array}\n",
    "$$\n",
    "\n",
    "Looking at the above matrix, it is clear that the first and second columns have similar ratings. Hence, one can infer that the movies Matrix and Star Wars IV are (according to users) similar to each other. Therefore, if someone liked the Matrix, there is a good chance they will also like Star Wars and vice versa. We will formalize \"similarity\" by using [cosine similarity](https://en.wikipedia.org/wiki/Cosine_similarity), which means if $x = (x_1, x_2, \\dots, x_n)$ and $y = (y_1, y_2, \\dots, y_n)$, then:\n",
    "\n",
    "$$\n",
    "x_1 y_1 + x_2 y_2 + \\cdots + x_n y_n = x \\cdot y = \\lVert x \\rVert \\lVert y \\rVert \\cos(\\theta).\n",
    "$$\n",
    "\n",
    "Where $\\theta$ is the angle between the vectors. It is more convenient to normalize the vectors. Then,\n",
    "\n",
    "$$\n",
    "x_1 y_1 + x_2 y_2 + \\cdots + x_n y_n = \\cos(\\theta).\n",
    "$$ \n",
    "\n",
    "Thus, $\\cos(\\theta)$ represents the similarity of one vector to another, i.e., how close one set of ratings is to another.\n",
    "\n",
    "For our matrix, we get:"
   ]
  },
  {
   "cell_type": "code",
   "execution_count": 31,
   "id": "cf2a17ea-4e8c-47ea-9871-5450d7deee3b",
   "metadata": {},
   "outputs": [],
   "source": [
    "import numpy as np"
   ]
  },
  {
   "cell_type": "code",
   "execution_count": 32,
   "id": "6e99207c-9bd7-40ee-96b2-aaf1dafe443e",
   "metadata": {},
   "outputs": [
    {
     "data": {
      "text/plain": [
       "array([[5, 4],\n",
       "       [0, 1],\n",
       "       [2, 2],\n",
       "       [5, 5]])"
      ]
     },
     "execution_count": 32,
     "metadata": {},
     "output_type": "execute_result"
    }
   ],
   "source": [
    "x = np.array([[5,0,2,5], [4,1,2,5]]).T\n",
    "x"
   ]
  },
  {
   "cell_type": "code",
   "execution_count": 33,
   "id": "9fb33308-4748-427f-98e7-cc07c1fac310",
   "metadata": {},
   "outputs": [
    {
     "data": {
      "text/plain": [
       "array([7.34846923, 6.78232998])"
      ]
     },
     "execution_count": 33,
     "metadata": {},
     "output_type": "execute_result"
    }
   ],
   "source": [
    "np.linalg.norm(x, axis=0)"
   ]
  },
  {
   "cell_type": "code",
   "execution_count": 34,
   "id": "93adf6e9-a048-4dd7-9bd0-3460706dbcd1",
   "metadata": {},
   "outputs": [
    {
     "data": {
      "text/plain": [
       "array([[0.68041382, 0.58976782],\n",
       "       [0.        , 0.14744196],\n",
       "       [0.27216553, 0.29488391],\n",
       "       [0.68041382, 0.73720978]])"
      ]
     },
     "execution_count": 34,
     "metadata": {},
     "output_type": "execute_result"
    }
   ],
   "source": [
    "x/np.linalg.norm(x, axis=0)"
   ]
  },
  {
   "cell_type": "code",
   "execution_count": 35,
   "id": "82148274-ac30-44f5-b6d1-554f1d095869",
   "metadata": {},
   "outputs": [
    {
     "data": {
      "text/plain": [
       "[[4], [3]]"
      ]
     },
     "execution_count": 35,
     "metadata": {},
     "output_type": "execute_result"
    }
   ],
   "source": [
    "y = [[4],[3]]\n",
    "y"
   ]
  },
  {
   "cell_type": "markdown",
   "id": "bf4ba901-97b0-48ee-8a3f-f47f60b63fb4",
   "metadata": {},
   "source": [
    "We calculate the cosine similarity with each user (we will use matrix multiplication)"
   ]
  },
  {
   "cell_type": "code",
   "execution_count": 36,
   "id": "955609d4-806a-495c-a845-99e66129447d",
   "metadata": {},
   "outputs": [
    {
     "data": {
      "text/plain": [
       "array([[0.89819175],\n",
       "       [0.08846517],\n",
       "       [0.39466277],\n",
       "       [0.98665692]])"
      ]
     },
     "execution_count": 36,
     "metadata": {},
     "output_type": "execute_result"
    }
   ],
   "source": [
    "z=np.dot(x/np.linalg.norm(x, axis=0), np.array(y)/np.linalg.norm(y))\n",
    "z"
   ]
  },
  {
   "cell_type": "code",
   "execution_count": 37,
   "id": "e22b815b-2497-4f22-8559-e8ffdff970b0",
   "metadata": {},
   "outputs": [
    {
     "data": {
      "text/plain": [
       "array([[0.64422929],\n",
       "       [0.06345177],\n",
       "       [0.28307243],\n",
       "       [0.70768107]])"
      ]
     },
     "execution_count": 37,
     "metadata": {},
     "output_type": "execute_result"
    }
   ],
   "source": [
    "z/np.linalg.norm(z)"
   ]
  },
  {
   "cell_type": "markdown",
   "id": "25d0be24-f472-4067-ae68-737b56675906",
   "metadata": {},
   "source": [
    "Now we need to calculate the cosine similarity between our profile and each column of the matrix to find such movies that are similar to our profile. We sort by the similarity obtained and get the recommendations. Using our example, we get\n"
   ]
  },
  {
   "cell_type": "code",
   "execution_count": 38,
   "id": "860c8fe4-1dfd-4d87-b21d-b37f7b3b1f5d",
   "metadata": {},
   "outputs": [
    {
     "data": {
      "text/plain": [
       "array([[0.99690104],\n",
       "       [0.99448407]])"
      ]
     },
     "execution_count": 38,
     "metadata": {},
     "output_type": "execute_result"
    }
   ],
   "source": [
    "X = x/np.linalg.norm(x, axis=0)\n",
    "Z = z/np.linalg.norm(z)\n",
    "np.dot(X.T, Z)"
   ]
  },
  {
   "cell_type": "markdown",
   "id": "899ca7e8-88fd-4b1a-8020-ad64300d8d8f",
   "metadata": {},
   "source": [
    "Hence, we received a higher recommendation for the movie Matrix (0.996) than for Star Wars IV (0.994). This was, of course, expected since our rating was Matrix - 4, and Star Wars IV - 3.\n",
    "\n",
    "We can now move on to the main part of the task.\n",
    "\n",
    "#### Task to be completed\n",
    "\n",
    "Write a movie recommendation system that will use the data from the [MovieLens Latest Datasets](https://grouplens.org/datasets/movielens/latest/). Specifically, we will use a smaller dataset (which we will further reduce). Download the file [ml-latest-small.zip](http://files.grouplens.org/datasets/movielens/ml-latest-small.zip). We will mainly be interested in two files: movies.csv and ratings.csv. In the ratings.csv file, we have essentially all the data needed to create a rating matrix. Even in this case, the resulting matrix will be quite large, so when loading data from the file, please consider only those rows (from ratings.csv) where <b>movie_id</b> (second column) is less than 10000 (ignore the rest). For the current data from the website, we will then get a matrix of approximately 611x9019.\n",
    "\n",
    "An example result for a selected movie profile:\n",
    "\n",
    "```python\n",
    "# the vector my_ratings corresponds to the y vector from the example above\n",
    "my_ratings = np.zeros((9019,1))\n",
    "my_ratings[2571] = 5      # see movies.csv  2571 - Matrix\n",
    "my_ratings[32] = 4        # 32 - Twelve Monkeys\n",
    "my_ratings[260] = 5       # 260 - Star Wars IV\n",
    "my_ratings[1097] = 4\n",
    "my_ratings_norm = my_ratings/np.linalg.norm(my_ratings)\n",
    "\n",
    "...\n",
    "\n",
    "# we get the recommendation result after sorting\n",
    "# (cos(θ), movies_id)\n",
    "(0.8675507828468105, 260)\n",
    "(0.8362098349303669, 2571)\n",
    "(0.8227451213877744, 1196)\n",
    "(0.8002349214247857, 1210)\n",
    "(0.7458504689612442, 1097)\n",
    "(0.7286029159733108, 32)\n",
    "(0.7265369898748615, 1198)\n",
    "(0.7095672455110477, 1240)\n",
    "(0.7029872178855614, 1270)\n",
    "```\n",
    "\n",
    "Display the obtained recommendations as movie names using movies.csv. Note: in real data, we will get a large number of zeros, even entire columns, which will result in NaN values when dividing! Solve this problem using, for example, np.nan_to_num(...)."
   ]
  },
  {
   "cell_type": "code",
   "execution_count": 39,
   "id": "ff616d11-0b7a-4451-95e1-a961c548dd6d",
   "metadata": {},
   "outputs": [
    {
     "data": {
      "text/html": [
       "<div>\n",
       "<style scoped>\n",
       "    .dataframe tbody tr th:only-of-type {\n",
       "        vertical-align: middle;\n",
       "    }\n",
       "\n",
       "    .dataframe tbody tr th {\n",
       "        vertical-align: top;\n",
       "    }\n",
       "\n",
       "    .dataframe thead th {\n",
       "        text-align: right;\n",
       "    }\n",
       "</style>\n",
       "<table border=\"1\" class=\"dataframe\">\n",
       "  <thead>\n",
       "    <tr style=\"text-align: right;\">\n",
       "      <th></th>\n",
       "      <th>movieId</th>\n",
       "      <th>title</th>\n",
       "      <th>genres</th>\n",
       "    </tr>\n",
       "  </thead>\n",
       "  <tbody>\n",
       "    <tr>\n",
       "      <th>0</th>\n",
       "      <td>1</td>\n",
       "      <td>Toy Story (1995)</td>\n",
       "      <td>Adventure|Animation|Children|Comedy|Fantasy</td>\n",
       "    </tr>\n",
       "    <tr>\n",
       "      <th>1</th>\n",
       "      <td>2</td>\n",
       "      <td>Jumanji (1995)</td>\n",
       "      <td>Adventure|Children|Fantasy</td>\n",
       "    </tr>\n",
       "    <tr>\n",
       "      <th>2</th>\n",
       "      <td>3</td>\n",
       "      <td>Grumpier Old Men (1995)</td>\n",
       "      <td>Comedy|Romance</td>\n",
       "    </tr>\n",
       "    <tr>\n",
       "      <th>3</th>\n",
       "      <td>4</td>\n",
       "      <td>Waiting to Exhale (1995)</td>\n",
       "      <td>Comedy|Drama|Romance</td>\n",
       "    </tr>\n",
       "    <tr>\n",
       "      <th>4</th>\n",
       "      <td>5</td>\n",
       "      <td>Father of the Bride Part II (1995)</td>\n",
       "      <td>Comedy</td>\n",
       "    </tr>\n",
       "  </tbody>\n",
       "</table>\n",
       "</div>"
      ],
      "text/plain": [
       "   movieId                               title  \\\n",
       "0        1                    Toy Story (1995)   \n",
       "1        2                      Jumanji (1995)   \n",
       "2        3             Grumpier Old Men (1995)   \n",
       "3        4            Waiting to Exhale (1995)   \n",
       "4        5  Father of the Bride Part II (1995)   \n",
       "\n",
       "                                        genres  \n",
       "0  Adventure|Animation|Children|Comedy|Fantasy  \n",
       "1                   Adventure|Children|Fantasy  \n",
       "2                               Comedy|Romance  \n",
       "3                         Comedy|Drama|Romance  \n",
       "4                                       Comedy  "
      ]
     },
     "metadata": {},
     "output_type": "display_data"
    },
    {
     "name": "stdout",
     "output_type": "stream",
     "text": [
      "9742\n"
     ]
    },
    {
     "data": {
      "text/html": [
       "<div>\n",
       "<style scoped>\n",
       "    .dataframe tbody tr th:only-of-type {\n",
       "        vertical-align: middle;\n",
       "    }\n",
       "\n",
       "    .dataframe tbody tr th {\n",
       "        vertical-align: top;\n",
       "    }\n",
       "\n",
       "    .dataframe thead th {\n",
       "        text-align: right;\n",
       "    }\n",
       "</style>\n",
       "<table border=\"1\" class=\"dataframe\">\n",
       "  <thead>\n",
       "    <tr style=\"text-align: right;\">\n",
       "      <th></th>\n",
       "      <th>userId</th>\n",
       "      <th>movieId</th>\n",
       "      <th>rating</th>\n",
       "      <th>timestamp</th>\n",
       "    </tr>\n",
       "  </thead>\n",
       "  <tbody>\n",
       "    <tr>\n",
       "      <th>0</th>\n",
       "      <td>1</td>\n",
       "      <td>1</td>\n",
       "      <td>4.0</td>\n",
       "      <td>964982703</td>\n",
       "    </tr>\n",
       "    <tr>\n",
       "      <th>1</th>\n",
       "      <td>1</td>\n",
       "      <td>3</td>\n",
       "      <td>4.0</td>\n",
       "      <td>964981247</td>\n",
       "    </tr>\n",
       "    <tr>\n",
       "      <th>2</th>\n",
       "      <td>1</td>\n",
       "      <td>6</td>\n",
       "      <td>4.0</td>\n",
       "      <td>964982224</td>\n",
       "    </tr>\n",
       "    <tr>\n",
       "      <th>3</th>\n",
       "      <td>1</td>\n",
       "      <td>47</td>\n",
       "      <td>5.0</td>\n",
       "      <td>964983815</td>\n",
       "    </tr>\n",
       "    <tr>\n",
       "      <th>4</th>\n",
       "      <td>1</td>\n",
       "      <td>50</td>\n",
       "      <td>5.0</td>\n",
       "      <td>964982931</td>\n",
       "    </tr>\n",
       "  </tbody>\n",
       "</table>\n",
       "</div>"
      ],
      "text/plain": [
       "   userId  movieId  rating  timestamp\n",
       "0       1        1     4.0  964982703\n",
       "1       1        3     4.0  964981247\n",
       "2       1        6     4.0  964982224\n",
       "3       1       47     5.0  964983815\n",
       "4       1       50     5.0  964982931"
      ]
     },
     "metadata": {},
     "output_type": "display_data"
    },
    {
     "name": "stdout",
     "output_type": "stream",
     "text": [
      "77939\n"
     ]
    }
   ],
   "source": [
    "movies = pd.read_csv(\"datasets/ml-latest-small/movies.csv\")\n",
    "ratings = pd.read_csv(\"datasets/ml-latest-small/ratings.csv\")\n",
    "\n",
    "ratings = ratings[ratings[\"movieId\"] < 10000]\n",
    "\n",
    "display(movies.head())\n",
    "print(len(movies))\n",
    "display(ratings.head())\n",
    "print(len(ratings))"
   ]
  },
  {
   "cell_type": "code",
   "execution_count": 40,
   "id": "aac27581",
   "metadata": {},
   "outputs": [
    {
     "name": "stdout",
     "output_type": "stream",
     "text": [
      "n = 610, m = 9018\n"
     ]
    }
   ],
   "source": [
    "n = len(set(ratings[\"userId\"]))\n",
    "m = max(ratings[\"movieId\"])\n",
    "\n",
    "movie_indices = set(ratings[\"movieId\"])\n",
    "\n",
    "print(f\"n = {n}, m = {m}\")"
   ]
  },
  {
   "cell_type": "code",
   "execution_count": 41,
   "id": "89f4f071",
   "metadata": {},
   "outputs": [],
   "source": [
    "X = np.zeros((n, m))\n",
    "\n",
    "for user in set(ratings[\"userId\"]):\n",
    "    mr_pairs = ratings[ratings[\"userId\"] == user].sort_values(\"movieId\")[[\"movieId\", \"rating\"]]\n",
    "    for movie, rating in mr_pairs.values:\n",
    "        X[user-1, int(movie)-1] = rating"
   ]
  },
  {
   "cell_type": "code",
   "execution_count": 42,
   "id": "9e24dd67",
   "metadata": {},
   "outputs": [],
   "source": [
    "def find_movies(profile):\n",
    "    eps = 1e-10\n",
    "    X_norm = X / (np.linalg.norm(X, axis=0) + eps)\n",
    "    profile_norm = profile / np.linalg.norm(profile)\n",
    "    z = np.dot(X_norm, profile_norm)\n",
    "    z = z / np.linalg.norm(z)\n",
    "    return np.dot(X_norm.T, z)"
   ]
  },
  {
   "cell_type": "code",
   "execution_count": 43,
   "id": "cb761de2",
   "metadata": {},
   "outputs": [],
   "source": [
    "my_ratings = np.zeros((9018,1))\n",
    "my_ratings[2570] = 5      # patrz movies.csv  2571 - Matrix\n",
    "my_ratings[31] = 4        # 32 - Twelve Monkeys\n",
    "my_ratings[259] = 5       # 260 - Star Wars IV\n",
    "my_ratings[1096] = 4\n",
    "\n",
    "result = find_movies(my_ratings)\n",
    "recommendations = [(result[i-1][0], i, movies[movies[\"movieId\"] == i][\"title\"].values[0]) for i in movie_indices]"
   ]
  },
  {
   "cell_type": "code",
   "execution_count": 46,
   "id": "a8efcb48",
   "metadata": {},
   "outputs": [
    {
     "data": {
      "text/html": [
       "<div>\n",
       "<style scoped>\n",
       "    .dataframe tbody tr th:only-of-type {\n",
       "        vertical-align: middle;\n",
       "    }\n",
       "\n",
       "    .dataframe tbody tr th {\n",
       "        vertical-align: top;\n",
       "    }\n",
       "\n",
       "    .dataframe thead th {\n",
       "        text-align: right;\n",
       "    }\n",
       "</style>\n",
       "<table border=\"1\" class=\"dataframe\">\n",
       "  <thead>\n",
       "    <tr style=\"text-align: right;\">\n",
       "      <th></th>\n",
       "      <th>cos</th>\n",
       "      <th>movieId</th>\n",
       "      <th>title</th>\n",
       "    </tr>\n",
       "  </thead>\n",
       "  <tbody>\n",
       "    <tr>\n",
       "      <th>0</th>\n",
       "      <td>0.867551</td>\n",
       "      <td>260</td>\n",
       "      <td>Star Wars: Episode IV - A New Hope (1977)</td>\n",
       "    </tr>\n",
       "    <tr>\n",
       "      <th>1</th>\n",
       "      <td>0.836210</td>\n",
       "      <td>2571</td>\n",
       "      <td>Matrix, The (1999)</td>\n",
       "    </tr>\n",
       "    <tr>\n",
       "      <th>2</th>\n",
       "      <td>0.822745</td>\n",
       "      <td>1196</td>\n",
       "      <td>Star Wars: Episode V - The Empire Strikes Back...</td>\n",
       "    </tr>\n",
       "    <tr>\n",
       "      <th>3</th>\n",
       "      <td>0.800235</td>\n",
       "      <td>1210</td>\n",
       "      <td>Star Wars: Episode VI - Return of the Jedi (1983)</td>\n",
       "    </tr>\n",
       "    <tr>\n",
       "      <th>4</th>\n",
       "      <td>0.745850</td>\n",
       "      <td>1097</td>\n",
       "      <td>E.T. the Extra-Terrestrial (1982)</td>\n",
       "    </tr>\n",
       "    <tr>\n",
       "      <th>5</th>\n",
       "      <td>0.728603</td>\n",
       "      <td>32</td>\n",
       "      <td>Twelve Monkeys (a.k.a. 12 Monkeys) (1995)</td>\n",
       "    </tr>\n",
       "    <tr>\n",
       "      <th>6</th>\n",
       "      <td>0.726537</td>\n",
       "      <td>1198</td>\n",
       "      <td>Raiders of the Lost Ark (Indiana Jones and the...</td>\n",
       "    </tr>\n",
       "    <tr>\n",
       "      <th>7</th>\n",
       "      <td>0.709567</td>\n",
       "      <td>1240</td>\n",
       "      <td>Terminator, The (1984)</td>\n",
       "    </tr>\n",
       "    <tr>\n",
       "      <th>8</th>\n",
       "      <td>0.702987</td>\n",
       "      <td>1270</td>\n",
       "      <td>Back to the Future (1985)</td>\n",
       "    </tr>\n",
       "    <tr>\n",
       "      <th>9</th>\n",
       "      <td>0.698149</td>\n",
       "      <td>1291</td>\n",
       "      <td>Indiana Jones and the Last Crusade (1989)</td>\n",
       "    </tr>\n",
       "  </tbody>\n",
       "</table>\n",
       "</div>"
      ],
      "text/plain": [
       "        cos  movieId                                              title\n",
       "0  0.867551      260          Star Wars: Episode IV - A New Hope (1977)\n",
       "1  0.836210     2571                                 Matrix, The (1999)\n",
       "2  0.822745     1196  Star Wars: Episode V - The Empire Strikes Back...\n",
       "3  0.800235     1210  Star Wars: Episode VI - Return of the Jedi (1983)\n",
       "4  0.745850     1097                  E.T. the Extra-Terrestrial (1982)\n",
       "5  0.728603       32          Twelve Monkeys (a.k.a. 12 Monkeys) (1995)\n",
       "6  0.726537     1198  Raiders of the Lost Ark (Indiana Jones and the...\n",
       "7  0.709567     1240                             Terminator, The (1984)\n",
       "8  0.702987     1270                          Back to the Future (1985)\n",
       "9  0.698149     1291          Indiana Jones and the Last Crusade (1989)"
      ]
     },
     "execution_count": 46,
     "metadata": {},
     "output_type": "execute_result"
    }
   ],
   "source": [
    "recommendations = sorted(recommendations, key=lambda triplet: triplet[0], reverse=True)\n",
    "recommendations = pd.DataFrame(recommendations, columns=[\"cos\", \"movieId\", \"title\"])\n",
    "recommendations.head(10)"
   ]
  }
 ],
 "metadata": {
  "kernelspec": {
   "display_name": "Python 3 (ipykernel)",
   "language": "python",
   "name": "python3"
  },
  "language_info": {
   "codemirror_mode": {
    "name": "ipython",
    "version": 3
   },
   "file_extension": ".py",
   "mimetype": "text/x-python",
   "name": "python",
   "nbconvert_exporter": "python",
   "pygments_lexer": "ipython3",
   "version": "3.8.10"
  }
 },
 "nbformat": 4,
 "nbformat_minor": 5
}
